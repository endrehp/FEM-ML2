{
 "cells": [
  {
   "cell_type": "code",
   "execution_count": 1,
   "metadata": {},
   "outputs": [
    {
     "name": "stderr",
     "output_type": "stream",
     "text": [
      "Using TensorFlow backend.\n"
     ]
    }
   ],
   "source": [
    "%matplotlib inline\n",
    "\n",
    "import matplotlib\n",
    "import matplotlib.pyplot as plt\n",
    "import pandas as pd\n",
    "import random\n",
    "import math\n",
    "\n",
    "import numpy as np\n",
    "np.random.seed(1)\n",
    "from keras.models import Sequential\n",
    "from keras.layers import Dense\n",
    "from keras.optimizers import SGD\n",
    "#%matplotlib notebook\n",
    "from numpy.linalg import inv\n",
    "from numpy import linalg as LA\n",
    "from scipy import linalg\n",
    "import random"
   ]
  },
  {
   "cell_type": "code",
   "execution_count": null,
   "metadata": {},
   "outputs": [],
   "source": [
    "n_nodes = 100\n",
    "n_dofs = n_nodes*2\n",
    "n_elements = n_nodes-1\n",
    "x = np.linspace(0, 1, n_nodes)"
   ]
  },
  {
   "cell_type": "code",
   "execution_count": null,
   "metadata": {},
   "outputs": [],
   "source": [
    "L = 1000 #mm\n",
    "rho = 0.006 #kg/mm\n",
    "E = 210000 #N/mm2\n",
    "I = 0.801*10**6 #mm4\n",
    "A = 764 #mm^2"
   ]
  },
  {
   "cell_type": "code",
   "execution_count": null,
   "metadata": {},
   "outputs": [],
   "source": [
    "#Element stiffnes matrix\n",
    "L = L/n_elements\n",
    "k = np.matrix([[12, -6*L, -12, -6*L], [-6*L, 4*L**2, 6*L, 2*L**2], [-12, 6*L, 12, 6*L], [-6*L, 2*L**2, 6*L, 4*L**2]])*E*I/L**3\n",
    "\n",
    "#Element mass matrix\n",
    "m = np.matrix([[156, 22*L, 54, -13*L],[22*L, 4*L**2, 13*L, -3*L**2], [54, 13*L, 156, -22*L], [-13*L, -3*L**2, -22*L, 4*L**2]] )*rho*A*L/420"
   ]
  },
  {
   "cell_type": "code",
   "execution_count": null,
   "metadata": {},
   "outputs": [],
   "source": [
    "#Global stiffness matrix\n",
    "n_dofs = n_nodes*2\n",
    "K = np.zeros([n_dofs, n_dofs])\n",
    "for i in range(n_elements):\n",
    "    K[2*i:2*i+4,2*i:2*i+4] += k\n",
    "    \n",
    "#Global mass matrix\n",
    "M = np.zeros([n_dofs, n_dofs])\n",
    "for i in range(n_elements):\n",
    "    M[2*i:2*i+4,2*i:2*i+4] += m\n",
    "    "
   ]
  },
  {
   "cell_type": "code",
   "execution_count": null,
   "metadata": {},
   "outputs": [],
   "source": [
    "#Account for boundary conditions\n",
    "K = K[2:,2:]"
   ]
  },
  {
   "cell_type": "code",
   "execution_count": null,
   "metadata": {},
   "outputs": [],
   "source": [
    "#Generate random loadvector\n",
    "def get_loadvec():\n",
    "    loadvec = 1000*np.random.random(n_nodes)\n",
    "\n",
    "    #Force vector\n",
    "    F = np.zeros(n_dofs) \n",
    "    F[0::2] = loadvec\n",
    "    return F[2:]"
   ]
  },
  {
   "cell_type": "code",
   "execution_count": null,
   "metadata": {},
   "outputs": [],
   "source": [
    "n_cases = 1000\n",
    "\n",
    "Kinv = inv(K)\n",
    "Dz = np.zeros([n_cases, n_nodes])\n",
    "F_mat = np.zeros([n_cases, n_nodes-1])\n",
    "for i in range(n_cases):\n",
    "    F = get_loadvec()\n",
    "    d = np.matmul(Kinv, F)\n",
    "    \n",
    "    dz = d[0::2]\n",
    "    dz = np.insert(dz, 0, 0)\n",
    "    Dz[i, :] = dz\n",
    "    F_mat[i, :] = F[0::2]"
   ]
  },
  {
   "cell_type": "code",
   "execution_count": null,
   "metadata": {},
   "outputs": [],
   "source": [
    "training_portion = 0.8\n",
    "x_train = F_mat[0:int(n_cases*training_portion), :]*1/10000\n",
    "y_train = Dz[0:int(n_cases*training_portion), :]\n",
    "x_test = F_mat[int(n_cases*training_portion):, :]*1/10000\n",
    "y_test = Dz[int(n_cases*training_portion):, :]"
   ]
  },
  {
   "cell_type": "code",
   "execution_count": null,
   "metadata": {},
   "outputs": [],
   "source": [
    "input_dim = n_nodes - 1\n",
    "output_dim = n_nodes\n",
    "\n",
    "def baseline_model():\n",
    "    model = Sequential()\n",
    "    height = 50\n",
    "    model.add(Dense(height, input_dim=input_dim, activation='tanh', kernel_initializer='normal'))\n",
    "    #model.add(Dense(height, input_dim=height, activation='tanh', kernel_initializer='normal'))\n",
    "    model.add(Dense(height, input_dim=height, activation='tanh', kernel_initializer='normal'))\n",
    "    model.add(Dense(output_dim, input_dim=height, activation='linear', kernel_initializer='normal'))\n",
    "    \n",
    "    model.compile(loss='mse', optimizer=\"adam\")\n",
    "    return model\n",
    "\n",
    "\n",
    "\n",
    "# Training the model\n",
    "model = baseline_model()\n",
    "model.fit(x_train, y_train, epochs=500, verbose = 0)"
   ]
  },
  {
   "cell_type": "code",
   "execution_count": null,
   "metadata": {},
   "outputs": [],
   "source": [
    "predictions = model.predict(x_test)"
   ]
  },
  {
   "cell_type": "code",
   "execution_count": null,
   "metadata": {},
   "outputs": [],
   "source": [
    "plt.figure(figsize=(16,10))\n",
    "\n",
    "plt.plot(x, np.transpose(predictions[0:10,:]))\n",
    "plt.plot(x, np.transpose(y_test[0:10,:]))\n",
    "\n",
    "plt.show()"
   ]
  },
  {
   "cell_type": "code",
   "execution_count": 121,
   "metadata": {},
   "outputs": [],
   "source": [
    "#Pointload\n",
    "F = np.zeros(n_dofs-2)\n",
    "F[-2] = 1000\n",
    "\n",
    "d = np.matmul(inv(K),F)\n",
    "dz = d[0::2]\n",
    "dz = np.insert(dz, 0, 0)\n",
    "\n",
    "f = F[0::2]*1/1000\n",
    "pred = model.predict(np.reshape(f,(1,len(f))))\n",
    "\n"
   ]
  },
  {
   "cell_type": "code",
   "execution_count": 122,
   "metadata": {},
   "outputs": [
    {
     "data": {
      "text/plain": [
       "[<matplotlib.lines.Line2D at 0x25bc7d7ab70>]"
      ]
     },
     "execution_count": 122,
     "metadata": {},
     "output_type": "execute_result"
    },
    {
     "data": {
      "image/png": "[encoded data removed]",
      "text/plain": [
       "<Figure size 432x288 with 1 Axes>"
      ]
     },
     "metadata": {},
     "output_type": "display_data"
    }
   ],
   "source": [
    "plt.plot(pred[0])"
   ]
  },
  {
   "cell_type": "code",
   "execution_count": 123,
   "metadata": {},
   "outputs": [
    {
     "data": {
      "text/plain": [
       "100"
      ]
     },
     "execution_count": 123,
     "metadata": {},
     "output_type": "execute_result"
    }
   ],
   "source": [
    "len(dz)"
   ]
  },
  {
   "cell_type": "code",
   "execution_count": 124,
   "metadata": {},
   "outputs": [
    {
     "data": {
      "image/png": "[encoded data removed]",
      "text/plain": [
       "<Figure size 1152x720 with 1 Axes>"
      ]
     },
     "metadata": {},
     "output_type": "display_data"
    }
   ],
   "source": [
    "plt.figure(figsize=(16,10))\n",
    "\n",
    "plt.plot(x, pred[0])\n",
    "plt.plot(x, dz)\n",
    "\n",
    "plt.show()"
   ]
  },
  {
   "cell_type": "code",
   "execution_count": null,
   "metadata": {},
   "outputs": [],
   "source": []
  },
  {
   "cell_type": "code",
   "execution_count": null,
   "metadata": {},
   "outputs": [],
   "source": []
  }
 ],
 "metadata": {
  "kernelspec": {
   "display_name": "Python 3",
   "language": "python",
   "name": "python3"
  },
  "language_info": {
   "codemirror_mode": {
    "name": "ipython",
    "version": 3
   },
   "file_extension": ".py",
   "mimetype": "text/x-python",
   "name": "python",
   "nbconvert_exporter": "python",
   "pygments_lexer": "ipython3",
   "version": "3.6.5"
  }
 },
 "nbformat": 4,
 "nbformat_minor": 2
}
