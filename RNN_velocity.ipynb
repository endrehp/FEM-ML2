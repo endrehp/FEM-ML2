{
 "cells": [
  {
   "cell_type": "code",
   "execution_count": 2,
   "metadata": {},
   "outputs": [
    {
     "name": "stderr",
     "output_type": "stream",
     "text": [
      "Using TensorFlow backend.\n"
     ]
    }
   ],
   "source": [
    "%matplotlib inline\n",
    "\n",
    "import matplotlib\n",
    "import matplotlib.pyplot as plt\n",
    "import pandas as pd\n",
    "import random\n",
    "import math\n",
    "import time\n",
    "\n",
    "import numpy as np\n",
    "np.random.seed(1)\n",
    "from keras.models import Sequential\n",
    "from keras.layers import Dense\n",
    "from keras.layers import LSTM\n",
    "from keras.utils import np_utils\n",
    "from keras.optimizers import SGD\n",
    "from keras.optimizers import Adam\n",
    "from keras.callbacks import EarlyStopping\n",
    "#%matplotlib notebook\n",
    "\n",
    "from sklearn.preprocessing import MinMaxScaler\n",
    "from sklearn.preprocessing import LabelEncoder\n",
    "from sklearn.metrics import mean_squared_error\n",
    "\n",
    "from numpy.linalg import inv\n",
    "from numpy import linalg as LA\n",
    "from scipy import linalg\n",
    "import random\n",
    "\n",
    "from matplotlib import animation, rc\n",
    "from IPython.display import HTML"
   ]
  },
  {
   "cell_type": "code",
   "execution_count": 3,
   "metadata": {},
   "outputs": [],
   "source": [
    "def prepare_training_data(df_F, df_D, df_Dt, d):\n",
    "    \n",
    "    DF = []\n",
    "    for i in range(d):\n",
    "        if i == 0:\n",
    "            DF = np.concatenate((df_F.shift(d-i).values, df_D.shift(d-i).values, df_Dt.shift(d-i).values), axis = 1)\n",
    "        else:\n",
    "            DF = np.concatenate((DF, df_F.shift(d-i).values, df_D.shift(d-i).values, df_Dt.shift(d-i).values), axis=1)\n",
    "\n",
    "    DF = DF[d:,:]\n",
    "    Dy = np.concatenate((df_D.values, df_Dt.values), axis=1)\n",
    "    Dy = Dy[d:,:]\n",
    "    \n",
    "    return DF, Dy"
   ]
  },
  {
   "cell_type": "code",
   "execution_count": 4,
   "metadata": {},
   "outputs": [],
   "source": [
    "def train_test_split(DF, Dy, d, x_scaler, y_scaler):\n",
    "\n",
    "    dim = np.shape(Dy)\n",
    "\n",
    "    n_nodes = int(dim[1]/2)\n",
    "    n_y = dim[1]\n",
    "    x = np.linspace(0,1, n_nodes)\n",
    "\n",
    "    #Scaling\n",
    "    DFscaled = x_scaler.transform(DF)\n",
    "    Dyscaled = y_scaler.transform(Dy)\n",
    "\n",
    "    X_train = DFscaled\n",
    "    Y_train = Dyscaled\n",
    "\n",
    "    #Train test split\n",
    "    train_portion = 0.8\n",
    "    n_timesteps = len(X_train[:,0])\n",
    "    x_train = X_train[0:int(n_timesteps*train_portion),:]\n",
    "    x_test = X_train[int(n_timesteps*(train_portion)):,:]\n",
    "    y_train = Y_train[0:int(n_timesteps*train_portion),:]\n",
    "    y_test = Y_train[int(n_timesteps*(train_portion)):,:]\n",
    "\n",
    "    n_features = int(x_train.shape[1]/d)\n",
    "    x_train = x_train.reshape((x_train.shape[0], d, n_features))\n",
    "    x_test = x_test.reshape((x_test.shape[0], d, n_features))\n",
    "\n",
    "    return x_train, x_test, y_train, y_test, n_nodes, n_features, n_y, x"
   ]
  },
  {
   "cell_type": "code",
   "execution_count": 5,
   "metadata": {},
   "outputs": [],
   "source": [
    "def initialize_model(n_units, x_train, y_train):\n",
    "    model = Sequential()\n",
    "    model.add(LSTM(n_units, input_shape=(x_train.shape[1], x_train.shape[2]),))\n",
    "    model.add(Dense(len(y_train[0,:])))\n",
    "    adam = Adam(lr=0.001)\n",
    "    model.compile(loss='mae', optimizer=adam)\n",
    "    \n",
    "    earlystop = EarlyStopping(monitor='loss', min_delta=0.0001, patience=5, verbose=1, mode='auto')\n",
    "    callback_list = [earlystop]\n",
    "    return model, callback_list"
   ]
  },
  {
   "cell_type": "code",
   "execution_count": 6,
   "metadata": {},
   "outputs": [],
   "source": [
    "def get_error(predictions, y_test):\n",
    "    error = 0\n",
    "    for i in range(len(predictions[:,0])):\n",
    "        error += np.trapz((y_test[i,:] - predictions[i,:])**2, x)\n",
    "    return error"
   ]
  },
  {
   "cell_type": "code",
   "execution_count": 7,
   "metadata": {},
   "outputs": [],
   "source": [
    "def independent_predictions(x_test):\n",
    "\n",
    "    input_i = np.copy(x_test[0,:,:])\n",
    "    input_i_reshaped = input_i.reshape((1,d,n_features))\n",
    "\n",
    "    #input_dim = x_test[0,:,:].shape\n",
    "\n",
    "    future_timesteps = len(x_test[:,0,0])-1\n",
    "    preds = np.zeros([future_timesteps, n_y])\n",
    "\n",
    "    force = np.copy(x_test[:,:,:(n_nodes)])\n",
    "    #model.reset_states()\n",
    "    for i in range(future_timesteps): \n",
    "        pred = model.predict(input_i_reshaped)\n",
    "        preds[i, :] = pred[0]\n",
    "\n",
    "        input_i[0:d-1,:] = input_i[1:d,:]\n",
    "        input_i[d-1,:n_nodes] = force[i+1,d-1,:]\n",
    "        input_i[d-1,n_nodes:] = pred[0]\n",
    "\n",
    "        input_i_reshaped = input_i.reshape((1,d,n_features))\n",
    "        \n",
    "    return preds"
   ]
  },
  {
   "cell_type": "code",
   "execution_count": 8,
   "metadata": {},
   "outputs": [],
   "source": [
    "def get_scalers(DF, Dy):\n",
    "    \n",
    "    x_scaler = MinMaxScaler()\n",
    "    y_scaler = MinMaxScaler()\n",
    "    \n",
    "    x_scaler.fit_transform(DF)\n",
    "    y_scaler.fit_transform(Dy)\n",
    "    \n",
    "    return x_scaler, y_scaler"
   ]
  },
  {
   "cell_type": "code",
   "execution_count": 9,
   "metadata": {},
   "outputs": [],
   "source": [
    "def get_batch_scalers(n_batches):\n",
    "    \n",
    "    #Simple version\n",
    "    for i in range(n_batches):\n",
    "        \n",
    "        df_D = pd.read_csv('C:/Users/endrep/Documents/training_batches/D' + str(i+1) + '.csv')\n",
    "        df_F = pd.read_csv('C:/Users/endrep/Documents/training_batches/F' + str(i+1) + '.csv')\n",
    "        df_Dt = pd.read_csv('C:/Users/endrep/Documents/training_batches/Dt' + str(i+1) + '.csv')\n",
    "        \n",
    "        \n",
    "        if i == 0:  \n",
    "            x_range = df_D.values.max() - df_D.values.min()\n",
    "            imax = i\n",
    "        \n",
    "        else:\n",
    "            new_x_range = df_D.values.max() - df_D.values.min()\n",
    "            \n",
    "            if new_x_range > x_range:\n",
    "                x_range = new_x_range\n",
    "                imax = i\n",
    "                \n",
    "    df_D = pd.read_csv('C:/Users/endrep/Documents/training_batches/D' + str(imax+1) + '.csv')\n",
    "    df_F = pd.read_csv('C:/Users/endrep/Documents/training_batches/F' + str(imax+1) + '.csv')\n",
    "    df_Dt = pd.read_csv('C:/Users/endrep/Documents/training_batches/Dt' + str(i+1) + '.csv')\n",
    "    \n",
    "    DF, Dy = prepare_training_data(df_F, df_D, df_Dt, d)\n",
    "    x_scaler, y_scaler = get_scalers(DF, Dy)\n",
    "    \n",
    "    return x_scaler, y_scaler"
   ]
  },
  {
   "cell_type": "code",
   "execution_count": null,
   "metadata": {},
   "outputs": [
    {
     "name": "stdout",
     "output_type": "stream",
     "text": [
      "Epoch 1/100\n"
     ]
    }
   ],
   "source": [
    "######################### BATCH TRAINING ########################################\n",
    "\n",
    "n_batches = 1\n",
    "d = 50\n",
    "\n",
    "t0 = time.time()\n",
    "\n",
    "x_scaler, y_scaler = get_batch_scalers(n_batches)\n",
    "\n",
    "for iteration in range(n_batches):\n",
    "\n",
    "    df_D = pd.read_csv('C:/Users/endrep/Documents/training_batches/D' + str(iteration+1) + '.csv')\n",
    "    df_F = pd.read_csv('C:/Users/endrep/Documents/training_batches/F' + str(iteration+1) + '.csv')\n",
    "    df_Dt = pd.read_csv('C:/Users/endrep/Documents/training_batches/Dt' + str(iteration+1) + '.csv')\n",
    "\n",
    "    DF, Dy = prepare_training_data(df_F, df_D, df_Dt, d)\n",
    "    \n",
    "    #if i == 0:\n",
    "    #    x_scaler, y_scaler = get_scalers(DF, Dy)\n",
    "    \n",
    "    x_train, x_test, y_train, y_test, n_nodes, n_features, n_y, x = train_test_split(DF, Dy, d, x_scaler, y_scaler)\n",
    "    \n",
    "    ts = time.time()\n",
    "    if iteration == 0:\n",
    "        model, callback_list = initialize_model(500, x_train, y_train)\n",
    "    \n",
    "    #model.fit(x_train, y_train, epochs=100, callbacks=callback_list, batch_size=len(x_train), verbose=0, shuffle=False)\n",
    "    model.fit(x_train, y_train, epochs=100, callbacks=None, batch_size=len(x_train), verbose=1, shuffle=False)\n",
    "    \n",
    "    training_time = time.time() - ts\n",
    "    \n",
    "    preds = model.predict(x_test)\n",
    "    y_test_u = y_test\n",
    "    \n",
    "    independent_preds = independent_predictions(x_test)\n",
    "    \n",
    "    test_error = get_error(y_test_u[:,:n_nodes], preds[:,:n_nodes])\n",
    "    independent_test_error = get_error(y_test_u[0:len(independent_preds[:,0]),:n_nodes], independent_preds[:,:n_nodes])\n",
    "    \n",
    "    total_time = time.time() - t0\n",
    "    \n",
    "    info = {'Iteration number': iteration+1, 'Test Error': test_error, 'Ind test error': independent_test_error,\n",
    "            'Training time': training_time, 'Total time': total_time}\n",
    "    print(info)"
   ]
  },
  {
   "cell_type": "code",
   "execution_count": 62,
   "metadata": {},
   "outputs": [
    {
     "data": {
      "image/png": "[encoded data removed]",
      "text/plain": [
       "<Figure size 576x360 with 1 Axes>"
      ]
     },
     "metadata": {},
     "output_type": "display_data"
    },
    {
     "name": "stdout",
     "output_type": "stream",
     "text": [
      "{'Iteration number': 1, 'Test Error': 407.56381856333417, 'Ind test error': 364.95304936947093, 'Training time': 0.0, 'Total time': 1.3987114429473877}\n"
     ]
    }
   ],
   "source": [
    "######################### BATCH TESTING ########################################\n",
    "\n",
    "n_batches = 1\n",
    "d = 10\n",
    "\n",
    "t0 = time.time()\n",
    "for iteration in range(n_batches):\n",
    "\n",
    "    df_D = pd.read_csv('C:/Users/endrep/Documents/training_batches/D' + str(i+1) + '.csv')\n",
    "    df_F = pd.read_csv('C:/Users/endrep/Documents/training_batches/F' + str(i+1) + '.csv')\n",
    "    df_Dt = pd.read_csv('C:/Users/endrep/Documents/training_batches/Dt' + str(i+1) + '.csv')\n",
    "\n",
    "    DF, Dy = prepare_training_data(df_F, df_D, df_Dt, d)\n",
    "    \n",
    "    #if i == 0:\n",
    "    #    x_scaler, y_scaler = get_scalers(DF, Dy)\n",
    "    \n",
    "    x_train, x_test, y_train, y_test, n_nodes, n_features, n_y, x = train_test_split(DF, Dy, d, x_scaler, y_scaler)\n",
    "    \n",
    "    ts = time.time()\n",
    "    #if i == 0:\n",
    "    #    model, callback_list = initialize_model(100, x_train, y_train)\n",
    "    \n",
    "    #model.fit(x_train, y_train, epochs=100, callbacks=callback_list, batch_size=len(x_train), verbose=0, shuffle=False)\n",
    "    \n",
    "    training_time = time.time() - ts\n",
    "    \n",
    "    preds = model.predict(x_test)\n",
    "    preds_u = y_scaler.inverse_transform(preds)\n",
    "    y_test_u = y_scaler.inverse_transform(y_test)\n",
    "    \n",
    "    independent_preds = independent_predictions(x_test)\n",
    "    \n",
    "    independent_preds_u = y_scaler.inverse_transform(independent_preds)\n",
    "    \n",
    "    test_error = get_error(y_test[:,:n_nodes], preds[:,:n_nodes])\n",
    "    independent_test_error = get_error(y_test[0:len(independent_preds[:,0]),:n_nodes], independent_preds[:,:n_nodes])\n",
    "    \n",
    "    plt.figure(figsize=(8,5))\n",
    "    plt.plot(independent_preds_u[:,n_nodes-1])\n",
    "    plt.plot(preds_u[:,n_nodes-1], 'x')\n",
    "    plt.plot(y_test_u[:,n_nodes-1])\n",
    "    plt.show()\n",
    "    \n",
    "\n",
    "    \n",
    "    total_time = time.time() - t0\n",
    "    \n",
    "    info = {'Iteration number': i+1, 'Test Error': test_error, 'Ind test error': independent_test_error,\n",
    "            'Training time': training_time, 'Total time': total_time}\n",
    "    print(info)"
   ]
  },
  {
   "cell_type": "code",
   "execution_count": 40,
   "metadata": {},
   "outputs": [],
   "source": [
    "#Export results\n",
    "np.savetxt(\"predictions.csv\", independent_preds_u, delimiter=\",\")\n",
    "np.savetxt(\"preds.csv\", preds_u, delimiter=\",\")\n",
    "np.savetxt(\"y_test.csv\", y_test_u, delimiter=\",\")\n",
    "np.savetxt(\"y_train.csv\", y_test_u, delimiter=\",\")"
   ]
  },
  {
   "cell_type": "code",
   "execution_count": 88,
   "metadata": {},
   "outputs": [
    {
     "data": {
      "text/plain": [
       "(998, 21)"
      ]
     },
     "execution_count": 88,
     "metadata": {},
     "output_type": "execute_result"
    }
   ],
   "source": [
    "independent_preds_u.shape"
   ]
  },
  {
   "cell_type": "code",
   "execution_count": 89,
   "metadata": {},
   "outputs": [
    {
     "data": {
      "text/plain": [
       "(4995, 205)"
      ]
     },
     "execution_count": 89,
     "metadata": {},
     "output_type": "execute_result"
    }
   ],
   "source": [
    "DF.shape"
   ]
  },
  {
   "cell_type": "code",
   "execution_count": 91,
   "metadata": {},
   "outputs": [
    {
     "data": {
      "text/plain": [
       "(5000, 21)"
      ]
     },
     "execution_count": 91,
     "metadata": {},
     "output_type": "execute_result"
    }
   ],
   "source": [
    "df_D.values.shape"
   ]
  },
  {
   "cell_type": "code",
   "execution_count": null,
   "metadata": {},
   "outputs": [],
   "source": []
  }
 ],
 "metadata": {
  "kernelspec": {
   "display_name": "Python 3",
   "language": "python",
   "name": "python3"
  },
  "language_info": {
   "codemirror_mode": {
    "name": "ipython",
    "version": 3
   },
   "file_extension": ".py",
   "mimetype": "text/x-python",
   "name": "python",
   "nbconvert_exporter": "python",
   "pygments_lexer": "ipython3",
   "version": "3.6.5"
  }
 },
 "nbformat": 4,
 "nbformat_minor": 2
}
